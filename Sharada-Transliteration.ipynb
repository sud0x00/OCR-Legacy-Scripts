{
 "cells": [
  {
   "cell_type": "code",
   "execution_count": 1,
   "metadata": {
    "id": "W13g7hq6500J"
   },
   "outputs": [],
   "source": [
    "VowelSharada =  [\n",
    "            '\\U00011183',\n",
    "            '\\U00011184',\n",
    "            '\\U00011185',\n",
    "            '\\U00011186',\n",
    "            '\\U00011187',\n",
    "            '\\U00011188',\n",
    "            '\\U00011189',\n",
    "            '\\U0001118A',\n",
    "            '\\U0001118B',\n",
    "            '\\U0001118C',\n",
    "            '\\U0001118D',\n",
    "            '\\U0001118E',\n",
    "            '\\U0001118F',\n",
    "            '\\U00011190',\n",
    "            ]\n",
    "\n",
    "SouthVowelSharada = [\n",
    "                '\\U0001118D\\U000111CC',\n",
    "                '\\U0001118F\\U000111CC',\n",
    "                ]\n",
    "\n",
    "ModernVowelSharada = [\n",
    "                 '𑆃\\U000111BE\\U000111CB',\n",
    "                  '𑆃\\U000111BE\\U000111CB\\U000111B3'\n",
    "                 ]\n",
    "\n",
    "SinhalaVowelSharada = [\n",
    "                 '𑆃\\U000111BE\\U000111CB\\u02BD',\n",
    "                  ]\n",
    "\n",
    "VowelSignSharada =  [\n",
    "                '\\U000111B3',\n",
    "                '\\U000111B4',\n",
    "                '\\U000111B5',\n",
    "                '\\U000111B6',\n",
    "                '\\U000111B7',\n",
    "                '\\U000111B8',\n",
    "                '\\U000111B9',\n",
    "                '\\U000111BA',\n",
    "                '\\U000111BB',\n",
    "                '\\U000111BC',\n",
    "                '\\U000111BD',\n",
    "                '\\U000111BE',\n",
    "                '\\U000111BF',\n",
    "                ]\n",
    "\n",
    "SouthVowelSignSharada = [\n",
    "                '\\U000111BC\\U000111CC',\n",
    "                '\\U000111BE\\U000111CC',\n",
    "                    ]\n",
    "\n",
    "ModernVowelSignSharada =[\n",
    "                 '\\U000111BE\\U000111CB',\n",
    "                  '\\U000111BE\\U000111CB\\U000111B3'\n",
    "                    ]\n",
    "\n",
    "SinhalaVowelSignSharada = [\n",
    "                 '\\U000111BE\\U000111CB\\u02BD',\n",
    "                      ]\n",
    "\n",
    "AyogavahaSharada = [\n",
    "               '\\U00011180',\n",
    "               '\\U00011181',\n",
    "               '\\U00011182'\n",
    "               ]\n",
    "\n",
    "ViramaSharada =  [\n",
    "             '\\U000111C0'\n",
    "             ]\n",
    "\n",
    "ConsonantSharada =  [\n",
    "                '\\U00011191',\n",
    "                '\\U00011192',\n",
    "                '\\U00011193',\n",
    "                '\\U00011194',\n",
    "                '\\U00011195',\n",
    "\n",
    "                '\\U00011196',\n",
    "                '\\U00011197',\n",
    "                '\\U00011198',\n",
    "                '\\U00011199',\n",
    "                '\\U0001119A',\n",
    "\n",
    "                '\\U0001119B',\n",
    "                '\\U0001119C',\n",
    "                '\\U0001119D',\n",
    "                '\\U0001119E',\n",
    "                '\\U0001119F',\n",
    "\n",
    "                '\\U000111A0',\n",
    "                '\\U000111A1',\n",
    "                '\\U000111A2',\n",
    "                '\\U000111A3',\n",
    "                '\\U000111A4',\n",
    "\n",
    "                '\\U000111A5',\n",
    "                '\\U000111A6',\n",
    "                '\\U000111A7',\n",
    "                '\\U000111A8',\n",
    "                '\\U000111A9',\n",
    "\n",
    "                '\\U000111AA',\n",
    "                '\\U000111AB',\n",
    "                '\\U000111AC',\n",
    "                '\\U000111AE',\n",
    "\n",
    "                '\\U000111AF',\n",
    "                '\\U000111B0',\n",
    "                '\\U000111B1',\n",
    "                '\\U000111B2'\n",
    "                ]\n",
    "\n",
    "SouthConsonantSharada = [\n",
    "                    '\\U000111AD',\n",
    "                    '\\U000111AD\\U000111CA',\n",
    "                    '\\U000111AB\\U000111CA',\n",
    "                    '\\U000111A4\\U000111CA'\n",
    "                    ]\n",
    "\n",
    "NuktaConsonantSharada =  [\n",
    "                     '\\U00011191\\U000111CA',\n",
    "                     '\\U00011192\\U000111CA',\n",
    "                     '\\U00011193\\U000111CA',\n",
    "                     '\\U00011198\\U000111CA',\n",
    "                     '\\U0001119D\\U000111CA',\n",
    "                     '\\U0001119E\\U000111CA',\n",
    "                     '\\U000111A6\\U000111CA',\n",
    "                     '\\U000111AA\\U000111CA'\n",
    "                     ]\n",
    "\n",
    "SinhalaConsonantSharada =[\n",
    "                     '\\U00011180\\u02BD\\U00011193',\n",
    "                     '\\U00011180\\u02BD\\U00011198',\n",
    "                     '\\U00011180\\u02BD\\U0001119D',\n",
    "                     '\\U00011180\\u02BD\\U000111A2',\n",
    "                     '\\U00011180\\u02BD\\U000111A7',\n",
    "                      ]\n",
    "\n",
    "NuktaSharada = [\n",
    "           '\\U000111CA'\n",
    "           ]\n",
    "\n",
    "OmSharada = [\n",
    "        '𑆏𑆀'\n",
    "        ]\n",
    "\n",
    "SignSharada =[\n",
    "         '\\U000111C1',\n",
    "         '\\U000111C5',\n",
    "         '\\U000111C6'\n",
    "         ]\n",
    "\n",
    "AythamSharada =[AyogavahaSharada[2]+'\\u02BD']\n",
    "\n",
    "NumeralSharada = [\n",
    "             '\\U000111D0',\n",
    "             '\\U000111D1',\n",
    "             '\\U000111D2',\n",
    "             '\\U000111D3',\n",
    "             '\\U000111D4',\n",
    "             '\\U000111D5',\n",
    "             '\\U000111D6',\n",
    "             '\\U000111D7',\n",
    "             '\\U000111D8',\n",
    "             '\\U000111D9'\n",
    "             ]\n"
   ]
  },
  {
   "cell_type": "code",
   "execution_count": 2,
   "metadata": {
    "id": "iMdmPgcK58E7"
   },
   "outputs": [],
   "source": [
    "VowelDevanagari =  [\n",
    "            '\\u0905',\n",
    "            '\\u0906',\n",
    "            '\\u0907',\n",
    "            '\\u0908',\n",
    "            '\\u0909',\n",
    "            '\\u090A',\n",
    "            '\\u090B',\n",
    "            '\\u0960',\n",
    "            '\\u090C',\n",
    "            '\\u0961',\n",
    "            '\\u090F',\n",
    "            '\\u0910',\n",
    "            '\\u0913',\n",
    "            '\\u0914',\n",
    "            ]\n",
    "\n",
    "SouthVowelDevanagari = [\n",
    "                '\\u090E',\n",
    "                '\\u0912',\n",
    "                ]\n",
    "\n",
    "ModernVowelDevanagari = [\n",
    "                 '\\u090D',\n",
    "                 '\\u0911',\n",
    "                 ]\n",
    "\n",
    "SinhalaVowelDevanagari = [\n",
    "                  'एॕ'\n",
    "                  ]\n",
    "\n",
    "VowelSignDevanagari =  [\n",
    "                '\\u093E',\n",
    "                '\\u093F',\n",
    "                '\\u0940',\n",
    "                '\\u0941',\n",
    "                '\\u0942',\n",
    "                '\\u0943',\n",
    "                '\\u0944',\n",
    "                '\\u0962',\n",
    "                '\\u0963',\n",
    "                '\\u0947',\n",
    "                '\\u0948',\n",
    "                '\\u094B',\n",
    "                '\\u094C',\n",
    "                ]\n",
    "\n",
    "SouthVowelSignDevanagari = [\n",
    "                    '\\u0946',\n",
    "                    '\\u094A',\n",
    "                    ]\n",
    "\n",
    "ModernVowelSignDevanagari =[\n",
    "                    '\\u0945',\n",
    "                    '\\u0949']\n",
    "\n",
    "SinhalaVowelSignDevanagari = [\n",
    "                      'ॕ'\n",
    "                      ]\n",
    "\n",
    "AyogavahaDevanagari = [\n",
    "               '\\u0901',\n",
    "               '\\u0902',\n",
    "               '\\u0903'\n",
    "               ]\n",
    "\n",
    "ViramaDevanagari =  [\n",
    "             '\\u094D'\n",
    "             ]\n",
    "\n",
    "ConsonantDevanagari =  [\n",
    "                '\\u0915',\n",
    "                '\\u0916',\n",
    "                '\\u0917',\n",
    "                '\\u0918',\n",
    "                '\\u0919',\n",
    "\n",
    "                '\\u091A',\n",
    "                '\\u091B',\n",
    "                '\\u091C',\n",
    "                '\\u091D',\n",
    "                '\\u091E',\n",
    "\n",
    "                '\\u091F',\n",
    "                '\\u0920',\n",
    "                '\\u0921',\n",
    "                '\\u0922',\n",
    "                '\\u0923',\n",
    "\n",
    "                '\\u0924',\n",
    "                '\\u0925',\n",
    "                '\\u0926',\n",
    "                '\\u0927',\n",
    "                '\\u0928',\n",
    "\n",
    "                '\\u092A',\n",
    "                '\\u092B',\n",
    "                '\\u092C',\n",
    "                '\\u092D',\n",
    "                '\\u092E',\n",
    "\n",
    "                '\\u092F',\n",
    "                '\\u0930',\n",
    "                '\\u0932',\n",
    "                '\\u0935',\n",
    "\n",
    "                '\\u0936',\n",
    "                '\\u0937',\n",
    "                '\\u0938',\n",
    "                '\\u0939'\n",
    "                ]\n",
    "\n",
    "SouthConsonantDevanagari = [\n",
    "                    '\\u0933',\n",
    "                    '\\u0934',\n",
    "                    '\\u0931',\n",
    "                    '\\u0929'\n",
    "                    ]\n",
    "\n",
    "NuktaConsonantDevanagari =  [\n",
    "                     '\\u0958',\n",
    "                     '\\u0959',\n",
    "                     '\\u095A',\n",
    "                     '\\u095B',\n",
    "                     '\\u095C',\n",
    "                     '\\u095D',\n",
    "                     '\\u095E',\n",
    "                     '\\u095F'\n",
    "                     ]\n",
    "\n",
    "SinhalaConsonantDevanagari =[\n",
    "                     '\\u0901\\u02C6\\u0917',\n",
    "                     '\\u0901\\u02C6\\u091C',\n",
    "                     '\\u0901\\u02C6\\u0921',\n",
    "                     '\\u0901\\u02C6\\u0926',\n",
    "                     '\\u0901\\u02C6\\u092C',\n",
    "                      ]\n",
    "\n",
    "NuktaDevanagari = [\n",
    "           '\\u093C'\n",
    "           ]\n",
    "\n",
    "OmDevanagari = [\n",
    "        '\\u0950'\n",
    "        ]\n",
    "\n",
    "SignDevanagari =[\n",
    "         '\\u093D',\n",
    "         '\\u0964',\n",
    "         '\\u0965'\n",
    "         ]\n",
    "\n",
    "AythamDevanagari =[AyogavahaDevanagari[2]+'\\u02BC']\n",
    "\n",
    "NumeralDevanagari = [\n",
    "             '\\u0966',\n",
    "             '\\u0967',\n",
    "             '\\u0968',\n",
    "             '\\u0969',\n",
    "             '\\u096A',\n",
    "             '\\u096B',\n",
    "             '\\u096C',\n",
    "             '\\u096D',\n",
    "             '\\u096E',\n",
    "             '\\u096F'\n",
    "             ]\n"
   ]
  },
  {
   "cell_type": "code",
   "execution_count": 3,
   "metadata": {
    "colab": {
     "base_uri": "https://localhost:8080/"
    },
    "id": "fS9AJemq7kde",
    "outputId": "0393e171-8c22-4214-9c2f-fce9c8026ed9"
   },
   "outputs": [
    {
     "name": "stdout",
     "output_type": "stream",
     "text": [
      "['क', 'ख', 'ग', 'घ', 'ङ', 'च', 'छ', 'ज', 'झ', 'ञ', 'ट', 'ठ', 'ड', 'ढ', 'ण', 'त', 'थ', 'द', 'ध', 'न', 'प', 'फ', 'ब', 'भ', 'म', 'य', 'र', 'ल', 'व', 'श', 'ष', 'स', 'ह']\n",
      "['𑆑', '𑆒', '𑆓', '𑆔', '𑆕', '𑆖', '𑆗', '𑆘', '𑆙', '𑆚', '𑆛', '𑆜', '𑆝', '𑆞', '𑆟', '𑆠', '𑆡', '𑆢', '𑆣', '𑆤', '𑆥', '𑆦', '𑆧', '𑆨', '𑆩', '𑆪', '𑆫', '𑆬', '𑆮', '𑆯', '𑆰', '𑆱', '𑆲']\n"
     ]
    }
   ],
   "source": [
    "print(ConsonantDevanagari)\n",
    "print(ConsonantSharada)"
   ]
  },
  {
   "cell_type": "code",
   "execution_count": 4,
   "metadata": {
    "id": "JBVDMR0gDvSR"
   },
   "outputs": [],
   "source": [
    "import re\n",
    "string = \"श्री कृष्ण\"\n",
    "string = str(string)"
   ]
  },
  {
   "cell_type": "code",
   "execution_count": 5,
   "metadata": {
    "id": "Bl2MXX54ETGJ"
   },
   "outputs": [],
   "source": [
    "res = ''.join(r'\\u{:04X}'.format(ord(chr)) for chr in string)"
   ]
  },
  {
   "cell_type": "code",
   "execution_count": 6,
   "metadata": {
    "colab": {
     "base_uri": "https://localhost:8080/",
     "height": 35
    },
    "id": "KwM1ZAviEnWE",
    "outputId": "96eb74b3-9ee0-4ce9-9c66-fcf6da83be83"
   },
   "outputs": [
    {
     "data": {
      "text/plain": [
       "'\\\\u0936\\\\u094D\\\\u0930\\\\u0940\\\\u0020\\\\u0915\\\\u0943\\\\u0937\\\\u094D\\\\u0923'"
      ]
     },
     "execution_count": 6,
     "metadata": {},
     "output_type": "execute_result"
    }
   ],
   "source": [
    "res"
   ]
  },
  {
   "cell_type": "code",
   "execution_count": 7,
   "metadata": {
    "colab": {
     "base_uri": "https://localhost:8080/",
     "height": 35
    },
    "id": "oc_ZMOFQMYvL",
    "outputId": "04887d3b-df30-49e5-ad63-e5fa2bcfc4cb"
   },
   "outputs": [
    {
     "data": {
      "text/plain": [
       "'श्री कृष्ण'"
      ]
     },
     "execution_count": 7,
     "metadata": {},
     "output_type": "execute_result"
    }
   ],
   "source": [
    "import codecs \n",
    "decoded = codecs.decode(res,'unicode-escape')\n",
    "decoded\n"
   ]
  },
  {
   "cell_type": "code",
   "execution_count": 8,
   "metadata": {
    "colab": {
     "base_uri": "https://localhost:8080/"
    },
    "id": "6HkajFAZFgUr",
    "outputId": "07eaddce-d93d-4ebf-a745-cd571ddb9f9e"
   },
   "outputs": [
    {
     "name": "stdout",
     "output_type": "stream",
     "text": [
      "{'𑆃': 'अ',\n",
      " '𑆄': 'आ',\n",
      " '𑆅': 'इ',\n",
      " '𑆆': 'ई',\n",
      " '𑆇': 'उ',\n",
      " '𑆈': 'ऊ',\n",
      " '𑆉': 'ऋ',\n",
      " '𑆊': 'ॠ',\n",
      " '𑆋': 'ऌ',\n",
      " '𑆌': 'ॡ',\n",
      " '𑆍': 'ए',\n",
      " '𑆎': 'ऐ',\n",
      " '𑆏': 'ओ',\n",
      " '𑆐': 'औ'}\n"
     ]
    }
   ],
   "source": [
    "from pprint import pprint\n",
    "Vowel = dict(zip(VowelSharada, VowelDevanagari))\n",
    "pprint(Vowel)"
   ]
  },
  {
   "cell_type": "code",
   "execution_count": 9,
   "metadata": {
    "colab": {
     "base_uri": "https://localhost:8080/"
    },
    "id": "LsZeEDU1EmAD",
    "outputId": "bd187431-f8ee-4656-d7bb-6a43887469c1",
    "scrolled": true
   },
   "outputs": [
    {
     "name": "stdout",
     "output_type": "stream",
     "text": [
      "{'𑆍𑇌': 'ऎ', '𑆏𑇌': 'ऒ'}\n"
     ]
    }
   ],
   "source": [
    "SouthVowel = dict(zip(SouthVowelSharada, SouthVowelDevanagari))\n",
    "pprint(SouthVowel)"
   ]
  },
  {
   "cell_type": "code",
   "execution_count": 10,
   "metadata": {
    "colab": {
     "base_uri": "https://localhost:8080/"
    },
    "id": "Ttf1DrxPEmAE",
    "outputId": "f63d1c4c-678e-449b-a79e-1772f7a40483"
   },
   "outputs": [
    {
     "name": "stdout",
     "output_type": "stream",
     "text": [
      "{'𑆃𑆾𑇋': 'ऍ', '𑆃𑆾𑇋𑆳': 'ऑ'}\n"
     ]
    }
   ],
   "source": [
    "ModernVowel = dict(zip(ModernVowelSharada, ModernVowelDevanagari))\n",
    "print(ModernVowel)"
   ]
  },
  {
   "cell_type": "code",
   "execution_count": 11,
   "metadata": {
    "colab": {
     "base_uri": "https://localhost:8080/"
    },
    "id": "YZ4nb-knEmAF",
    "outputId": "7272cd0c-6361-44f3-deed-f3b348ad58a1"
   },
   "outputs": [
    {
     "name": "stdout",
     "output_type": "stream",
     "text": [
      "{'𑆃𑆾𑇋ʽ': 'एॕ'}\n"
     ]
    }
   ],
   "source": [
    "SinhalaVowel = dict(zip(SinhalaVowelSharada, SinhalaVowelDevanagari))\n",
    "print(SinhalaVowel)"
   ]
  },
  {
   "cell_type": "code",
   "execution_count": 12,
   "metadata": {
    "colab": {
     "base_uri": "https://localhost:8080/"
    },
    "id": "oh7kzjThEmAF",
    "outputId": "b2e03e53-79b5-4493-a7e5-05d5a46172c6",
    "scrolled": true
   },
   "outputs": [
    {
     "name": "stdout",
     "output_type": "stream",
     "text": [
      "{'𑆳': 'ा',\n",
      " '𑆴': 'ि',\n",
      " '𑆵': 'ी',\n",
      " '𑆶': 'ु',\n",
      " '𑆷': 'ू',\n",
      " '𑆸': 'ृ',\n",
      " '𑆹': 'ॄ',\n",
      " '𑆺': 'ॢ',\n",
      " '𑆻': 'ॣ',\n",
      " '𑆼': 'े',\n",
      " '𑆽': 'ै',\n",
      " '𑆾': 'ो',\n",
      " '𑆿': 'ौ'}\n"
     ]
    }
   ],
   "source": [
    "VowelSign = dict(zip(VowelSignSharada, VowelSignDevanagari))\n",
    "pprint(VowelSign)"
   ]
  },
  {
   "cell_type": "code",
   "execution_count": 13,
   "metadata": {
    "colab": {
     "base_uri": "https://localhost:8080/"
    },
    "id": "9PjL01cSEmAG",
    "outputId": "d7597091-fa4e-48e7-c04d-aacdc2b57bd9"
   },
   "outputs": [
    {
     "name": "stdout",
     "output_type": "stream",
     "text": [
      "{'𑆼𑇌': 'ॆ', '𑆾𑇌': 'ॊ'}\n"
     ]
    }
   ],
   "source": [
    "SouthVowelSign = dict(zip(SouthVowelSignSharada, SouthVowelSignDevanagari))\n",
    "print(SouthVowelSign)"
   ]
  },
  {
   "cell_type": "code",
   "execution_count": 14,
   "metadata": {
    "colab": {
     "base_uri": "https://localhost:8080/"
    },
    "id": "b8NCi4NOEmAI",
    "outputId": "0b3a38c2-219e-4544-da41-b18e5c080863"
   },
   "outputs": [
    {
     "name": "stdout",
     "output_type": "stream",
     "text": [
      "{'𑆾𑇋': 'ॅ', '𑆾𑇋𑆳': 'ॉ'}\n"
     ]
    }
   ],
   "source": [
    "ModernVowelSign = dict(zip(ModernVowelSignSharada, ModernVowelSignDevanagari))\n",
    "print(ModernVowelSign)"
   ]
  },
  {
   "cell_type": "code",
   "execution_count": 15,
   "metadata": {
    "colab": {
     "base_uri": "https://localhost:8080/"
    },
    "id": "T5MccWMnEmAJ",
    "outputId": "3a9d8527-39ce-4d28-f2de-af5c4177aa99"
   },
   "outputs": [
    {
     "name": "stdout",
     "output_type": "stream",
     "text": [
      "{'𑆾𑇋ʽ': 'ॕ'}\n"
     ]
    }
   ],
   "source": [
    "SinhalaVowelSign = dict(zip(SinhalaVowelSignSharada, SinhalaVowelSignDevanagari))\n",
    "print(SinhalaVowelSign)"
   ]
  },
  {
   "cell_type": "code",
   "execution_count": 16,
   "metadata": {
    "colab": {
     "base_uri": "https://localhost:8080/"
    },
    "id": "ITe0Q9WXEmAK",
    "outputId": "747bc3fa-f0b6-4e73-8d01-4cf20404dee6"
   },
   "outputs": [
    {
     "name": "stdout",
     "output_type": "stream",
     "text": [
      "{'𑆀': 'ँ', '𑆁': 'ं', '𑆂': 'ः'}\n"
     ]
    }
   ],
   "source": [
    "Ayogavaha = dict(zip(AyogavahaSharada, AyogavahaDevanagari))\n",
    "print(Ayogavaha)"
   ]
  },
  {
   "cell_type": "code",
   "execution_count": 17,
   "metadata": {
    "colab": {
     "base_uri": "https://localhost:8080/"
    },
    "id": "_NvhtKgJEmAK",
    "outputId": "82b836b0-5798-43d5-bdf6-7fc1343b86f5"
   },
   "outputs": [
    {
     "name": "stdout",
     "output_type": "stream",
     "text": [
      "{'𑇀': '्'}\n"
     ]
    }
   ],
   "source": [
    "Virama = dict(zip(ViramaSharada, ViramaDevanagari))\n",
    "print(Virama)"
   ]
  },
  {
   "cell_type": "code",
   "execution_count": 18,
   "metadata": {
    "colab": {
     "base_uri": "https://localhost:8080/"
    },
    "id": "JMPQ0Wq6EmAL",
    "outputId": "af11cc21-7fac-4e10-be7c-23e82a87d026"
   },
   "outputs": [
    {
     "name": "stdout",
     "output_type": "stream",
     "text": [
      "{'𑆑': 'क', '𑆒': 'ख', '𑆓': 'ग', '𑆔': 'घ', '𑆕': 'ङ', '𑆖': 'च', '𑆗': 'छ', '𑆘': 'ज', '𑆙': 'झ', '𑆚': 'ञ', '𑆛': 'ट', '𑆜': 'ठ', '𑆝': 'ड', '𑆞': 'ढ', '𑆟': 'ण', '𑆠': 'त', '𑆡': 'थ', '𑆢': 'द', '𑆣': 'ध', '𑆤': 'न', '𑆥': 'प', '𑆦': 'फ', '𑆧': 'ब', '𑆨': 'भ', '𑆩': 'म', '𑆪': 'य', '𑆫': 'र', '𑆬': 'ल', '𑆮': 'व', '𑆯': 'श', '𑆰': 'ष', '𑆱': 'स', '𑆲': 'ह'}\n"
     ]
    }
   ],
   "source": [
    "Consonant = dict(zip(ConsonantSharada, ConsonantDevanagari))\n",
    "print(Consonant)"
   ]
  },
  {
   "cell_type": "code",
   "execution_count": 19,
   "metadata": {
    "colab": {
     "base_uri": "https://localhost:8080/"
    },
    "id": "CzJ2yRmKEmAM",
    "outputId": "6a29ca7c-dd60-4a8f-e798-f1044009f2ee"
   },
   "outputs": [
    {
     "name": "stdout",
     "output_type": "stream",
     "text": [
      "{'𑆭': 'ळ', '𑆭𑇊': 'ऴ', '𑆫𑇊': 'ऱ', '𑆤𑇊': 'ऩ'}\n"
     ]
    }
   ],
   "source": [
    "SouthConsonant = dict(zip(SouthConsonantSharada, SouthConsonantDevanagari))\n",
    "print(SouthConsonant)"
   ]
  },
  {
   "cell_type": "code",
   "execution_count": 20,
   "metadata": {
    "colab": {
     "base_uri": "https://localhost:8080/"
    },
    "id": "PkosIqvKEmAM",
    "outputId": "dd3ec86c-8a53-4dde-f064-983bf6ab0c39"
   },
   "outputs": [
    {
     "name": "stdout",
     "output_type": "stream",
     "text": [
      "{'𑆑𑇊': 'क़', '𑆒𑇊': 'ख़', '𑆓𑇊': 'ग़', '𑆘𑇊': 'ज़', '𑆝𑇊': 'ड़', '𑆞𑇊': 'ढ़', '𑆦𑇊': 'फ़', '𑆪𑇊': 'य़'}\n"
     ]
    }
   ],
   "source": [
    "NuktaConsonant = dict(zip(NuktaConsonantSharada, NuktaConsonantDevanagari))\n",
    "print(NuktaConsonant)"
   ]
  },
  {
   "cell_type": "code",
   "execution_count": 21,
   "metadata": {
    "colab": {
     "base_uri": "https://localhost:8080/"
    },
    "id": "6Qay_pUAEmAN",
    "outputId": "bbe6a363-58ed-4e90-ada2-7d354e94e620"
   },
   "outputs": [
    {
     "name": "stdout",
     "output_type": "stream",
     "text": [
      "{'𑆀ʽ𑆓': 'ँˆग', '𑆀ʽ𑆘': 'ँˆज', '𑆀ʽ𑆝': 'ँˆड', '𑆀ʽ𑆢': 'ँˆद', '𑆀ʽ𑆧': 'ँˆब'}\n"
     ]
    }
   ],
   "source": [
    "SinhalaConsonant = dict(zip(SinhalaConsonantSharada, SinhalaConsonantDevanagari))\n",
    "print(SinhalaConsonant)"
   ]
  },
  {
   "cell_type": "code",
   "execution_count": 22,
   "metadata": {
    "colab": {
     "base_uri": "https://localhost:8080/"
    },
    "id": "haCy4kQhEmAO",
    "outputId": "443725fa-6a86-41ec-b2c4-e8cd7b1ae4ce"
   },
   "outputs": [
    {
     "name": "stdout",
     "output_type": "stream",
     "text": [
      "{'𑇊': '़'}\n"
     ]
    }
   ],
   "source": [
    "Nukta = dict(zip(NuktaSharada, NuktaDevanagari))\n",
    "print(Nukta)"
   ]
  },
  {
   "cell_type": "code",
   "execution_count": 23,
   "metadata": {
    "colab": {
     "base_uri": "https://localhost:8080/"
    },
    "id": "HXVLHUQDEmAO",
    "outputId": "8c21a3cd-464a-4b30-e5c9-56e9fcc4fbe1"
   },
   "outputs": [
    {
     "name": "stdout",
     "output_type": "stream",
     "text": [
      "{'𑆏𑆀': 'ॐ'}\n"
     ]
    }
   ],
   "source": [
    "Om = dict(zip(OmSharada, OmDevanagari))\n",
    "print(Om)"
   ]
  },
  {
   "cell_type": "code",
   "execution_count": 24,
   "metadata": {
    "colab": {
     "base_uri": "https://localhost:8080/"
    },
    "id": "_6et6ZpMEmAP",
    "outputId": "21ae3598-b56c-453e-e635-f47df04b9b30"
   },
   "outputs": [
    {
     "name": "stdout",
     "output_type": "stream",
     "text": [
      "{'𑇁': 'ऽ', '𑇅': '।', '𑇆': '॥'}\n"
     ]
    }
   ],
   "source": [
    "Sign = dict(zip(SignSharada, SignDevanagari))\n",
    "print(Sign)"
   ]
  },
  {
   "cell_type": "code",
   "execution_count": 25,
   "metadata": {
    "colab": {
     "base_uri": "https://localhost:8080/"
    },
    "id": "c1DKg7CBHLwP",
    "outputId": "9ab55b8b-0094-448b-bf9e-658c6490112e"
   },
   "outputs": [
    {
     "name": "stdout",
     "output_type": "stream",
     "text": [
      "{'𑆂ʽ': 'ःʼ'}\n"
     ]
    }
   ],
   "source": [
    "Aytham = dict(zip(AythamSharada, AythamDevanagari))\n",
    "print(Aytham)"
   ]
  },
  {
   "cell_type": "code",
   "execution_count": 26,
   "metadata": {},
   "outputs": [
    {
     "name": "stdout",
     "output_type": "stream",
     "text": [
      "{'𑇐': '०', '𑇑': '१', '𑇒': '२', '𑇓': '३', '𑇔': '४', '𑇕': '५', '𑇖': '६', '𑇗': '७', '𑇘': '८', '𑇙': '९'}\n"
     ]
    }
   ],
   "source": [
    "Numeral = dict(zip(NumeralSharada, NumeralDevanagari))\n",
    "print(Numeral)"
   ]
  },
  {
   "cell_type": "code",
   "execution_count": 27,
   "metadata": {},
   "outputs": [
    {
     "data": {
      "text/plain": [
       "{'𑆃': 'अ',\n",
       " '𑆄': 'आ',\n",
       " '𑆅': 'इ',\n",
       " '𑆆': 'ई',\n",
       " '𑆇': 'उ',\n",
       " '𑆈': 'ऊ',\n",
       " '𑆉': 'ऋ',\n",
       " '𑆊': 'ॠ',\n",
       " '𑆋': 'ऌ',\n",
       " '𑆌': 'ॡ',\n",
       " '𑆍': 'ए',\n",
       " '𑆎': 'ऐ',\n",
       " '𑆏': 'ओ',\n",
       " '𑆐': 'औ',\n",
       " '𑆍𑇌': 'ऎ',\n",
       " '𑆏𑇌': 'ऒ',\n",
       " '𑆃𑆾𑇋': 'ऍ',\n",
       " '𑆃𑆾𑇋𑆳': 'ऑ',\n",
       " '𑆃𑆾𑇋ʽ': 'एॕ',\n",
       " '𑆳': 'ा',\n",
       " '𑆴': 'ि',\n",
       " '𑆵': 'ी',\n",
       " '𑆶': 'ु',\n",
       " '𑆷': 'ू',\n",
       " '𑆸': 'ृ',\n",
       " '𑆹': 'ॄ',\n",
       " '𑆺': 'ॢ',\n",
       " '𑆻': 'ॣ',\n",
       " '𑆼': 'े',\n",
       " '𑆽': 'ै',\n",
       " '𑆾': 'ो',\n",
       " '𑆿': 'ौ',\n",
       " '𑆼𑇌': 'ॆ',\n",
       " '𑆾𑇌': 'ॊ',\n",
       " '𑆾𑇋': 'ॅ',\n",
       " '𑆾𑇋𑆳': 'ॉ',\n",
       " '𑆾𑇋ʽ': 'ॕ',\n",
       " '𑆀': 'ँ',\n",
       " '𑆁': 'ं',\n",
       " '𑆂': 'ः',\n",
       " '𑇀': '्',\n",
       " '𑆑': 'क',\n",
       " '𑆒': 'ख',\n",
       " '𑆓': 'ग',\n",
       " '𑆔': 'घ',\n",
       " '𑆕': 'ङ',\n",
       " '𑆖': 'च',\n",
       " '𑆗': 'छ',\n",
       " '𑆘': 'ज',\n",
       " '𑆙': 'झ',\n",
       " '𑆚': 'ञ',\n",
       " '𑆛': 'ट',\n",
       " '𑆜': 'ठ',\n",
       " '𑆝': 'ड',\n",
       " '𑆞': 'ढ',\n",
       " '𑆟': 'ण',\n",
       " '𑆠': 'त',\n",
       " '𑆡': 'थ',\n",
       " '𑆢': 'द',\n",
       " '𑆣': 'ध',\n",
       " '𑆤': 'न',\n",
       " '𑆥': 'प',\n",
       " '𑆦': 'फ',\n",
       " '𑆧': 'ब',\n",
       " '𑆨': 'भ',\n",
       " '𑆩': 'म',\n",
       " '𑆪': 'य',\n",
       " '𑆫': 'र',\n",
       " '𑆬': 'ल',\n",
       " '𑆮': 'व',\n",
       " '𑆯': 'श',\n",
       " '𑆰': 'ष',\n",
       " '𑆱': 'स',\n",
       " '𑆲': 'ह',\n",
       " '𑆭': 'ळ',\n",
       " '𑆭𑇊': 'ऴ',\n",
       " '𑆫𑇊': 'ऱ',\n",
       " '𑆤𑇊': 'ऩ',\n",
       " '𑆑𑇊': 'क़',\n",
       " '𑆒𑇊': 'ख़',\n",
       " '𑆓𑇊': 'ग़',\n",
       " '𑆘𑇊': 'ज़',\n",
       " '𑆝𑇊': 'ड़',\n",
       " '𑆞𑇊': 'ढ़',\n",
       " '𑆦𑇊': 'फ़',\n",
       " '𑆪𑇊': 'य़',\n",
       " '𑆀ʽ𑆓': 'ँˆग',\n",
       " '𑆀ʽ𑆘': 'ँˆज',\n",
       " '𑆀ʽ𑆝': 'ँˆड',\n",
       " '𑆀ʽ𑆢': 'ँˆद',\n",
       " '𑆀ʽ𑆧': 'ँˆब',\n",
       " '𑇊': '़',\n",
       " '𑆏𑆀': 'ॐ',\n",
       " '𑇁': 'ऽ',\n",
       " '𑇅': '।',\n",
       " '𑇆': '॥'}"
      ]
     },
     "execution_count": 27,
     "metadata": {},
     "output_type": "execute_result"
    }
   ],
   "source": [
    "final_dict={**Vowel,**SouthVowel,**ModernVowel,**SinhalaVowel,**VowelSign,**SouthVowelSign,**ModernVowelSign,**SinhalaVowelSign,**Ayogavaha,**Virama,**Consonant,**SouthConsonant,**NuktaConsonant,**SinhalaConsonant,**Nukta,**Om,**Sign}\n",
    "final_dict"
   ]
  },
  {
   "cell_type": "code",
   "execution_count": 28,
   "metadata": {},
   "outputs": [
    {
     "name": "stdout",
     "output_type": "stream",
     "text": [
      "('{\"\\\\ud804\\\\udd83\": \"\\\\u0905\", \"\\\\ud804\\\\udd84\": \"\\\\u0906\", \"\\\\ud804\\\\udd85\": '\n",
      " '\"\\\\u0907\", \"\\\\ud804\\\\udd86\": \"\\\\u0908\", \"\\\\ud804\\\\udd87\": \"\\\\u0909\", '\n",
      " '\"\\\\ud804\\\\udd88\": \"\\\\u090a\", \"\\\\ud804\\\\udd89\": \"\\\\u090b\", \"\\\\ud804\\\\udd8a\": '\n",
      " '\"\\\\u0960\", \"\\\\ud804\\\\udd8b\": \"\\\\u090c\", \"\\\\ud804\\\\udd8c\": \"\\\\u0961\", '\n",
      " '\"\\\\ud804\\\\udd8d\": \"\\\\u090f\", \"\\\\ud804\\\\udd8e\": \"\\\\u0910\", \"\\\\ud804\\\\udd8f\": '\n",
      " '\"\\\\u0913\", \"\\\\ud804\\\\udd90\": \"\\\\u0914\", \"\\\\ud804\\\\udd8d\\\\ud804\\\\uddcc\": '\n",
      " '\"\\\\u090e\", \"\\\\ud804\\\\udd8f\\\\ud804\\\\uddcc\": \"\\\\u0912\", '\n",
      " '\"\\\\ud804\\\\udd83\\\\ud804\\\\uddbe\\\\ud804\\\\uddcb\": \"\\\\u090d\", '\n",
      " '\"\\\\ud804\\\\udd83\\\\ud804\\\\uddbe\\\\ud804\\\\uddcb\\\\ud804\\\\uddb3\": \"\\\\u0911\", '\n",
      " '\"\\\\ud804\\\\udd83\\\\ud804\\\\uddbe\\\\ud804\\\\uddcb\\\\u02bd\": \"\\\\u090f\\\\u0955\", '\n",
      " '\"\\\\ud804\\\\uddb3\": \"\\\\u093e\", \"\\\\ud804\\\\uddb4\": \"\\\\u093f\", \"\\\\ud804\\\\uddb5\": '\n",
      " '\"\\\\u0940\", \"\\\\ud804\\\\uddb6\": \"\\\\u0941\", \"\\\\ud804\\\\uddb7\": \"\\\\u0942\", '\n",
      " '\"\\\\ud804\\\\uddb8\": \"\\\\u0943\", \"\\\\ud804\\\\uddb9\": \"\\\\u0944\", \"\\\\ud804\\\\uddba\": '\n",
      " '\"\\\\u0962\", \"\\\\ud804\\\\uddbb\": \"\\\\u0963\", \"\\\\ud804\\\\uddbc\": \"\\\\u0947\", '\n",
      " '\"\\\\ud804\\\\uddbd\": \"\\\\u0948\", \"\\\\ud804\\\\uddbe\": \"\\\\u094b\", \"\\\\ud804\\\\uddbf\": '\n",
      " '\"\\\\u094c\", \"\\\\ud804\\\\uddbc\\\\ud804\\\\uddcc\": \"\\\\u0946\", '\n",
      " '\"\\\\ud804\\\\uddbe\\\\ud804\\\\uddcc\": \"\\\\u094a\", \"\\\\ud804\\\\uddbe\\\\ud804\\\\uddcb\": '\n",
      " '\"\\\\u0945\", \"\\\\ud804\\\\uddbe\\\\ud804\\\\uddcb\\\\ud804\\\\uddb3\": \"\\\\u0949\", '\n",
      " '\"\\\\ud804\\\\uddbe\\\\ud804\\\\uddcb\\\\u02bd\": \"\\\\u0955\", \"\\\\ud804\\\\udd80\": '\n",
      " '\"\\\\u0901\", \"\\\\ud804\\\\udd81\": \"\\\\u0902\", \"\\\\ud804\\\\udd82\": \"\\\\u0903\", '\n",
      " '\"\\\\ud804\\\\uddc0\": \"\\\\u094d\", \"\\\\ud804\\\\udd91\": \"\\\\u0915\", \"\\\\ud804\\\\udd92\": '\n",
      " '\"\\\\u0916\", \"\\\\ud804\\\\udd93\": \"\\\\u0917\", \"\\\\ud804\\\\udd94\": \"\\\\u0918\", '\n",
      " '\"\\\\ud804\\\\udd95\": \"\\\\u0919\", \"\\\\ud804\\\\udd96\": \"\\\\u091a\", \"\\\\ud804\\\\udd97\": '\n",
      " '\"\\\\u091b\", \"\\\\ud804\\\\udd98\": \"\\\\u091c\", \"\\\\ud804\\\\udd99\": \"\\\\u091d\", '\n",
      " '\"\\\\ud804\\\\udd9a\": \"\\\\u091e\", \"\\\\ud804\\\\udd9b\": \"\\\\u091f\", \"\\\\ud804\\\\udd9c\": '\n",
      " '\"\\\\u0920\", \"\\\\ud804\\\\udd9d\": \"\\\\u0921\", \"\\\\ud804\\\\udd9e\": \"\\\\u0922\", '\n",
      " '\"\\\\ud804\\\\udd9f\": \"\\\\u0923\", \"\\\\ud804\\\\udda0\": \"\\\\u0924\", \"\\\\ud804\\\\udda1\": '\n",
      " '\"\\\\u0925\", \"\\\\ud804\\\\udda2\": \"\\\\u0926\", \"\\\\ud804\\\\udda3\": \"\\\\u0927\", '\n",
      " '\"\\\\ud804\\\\udda4\": \"\\\\u0928\", \"\\\\ud804\\\\udda5\": \"\\\\u092a\", \"\\\\ud804\\\\udda6\": '\n",
      " '\"\\\\u092b\", \"\\\\ud804\\\\udda7\": \"\\\\u092c\", \"\\\\ud804\\\\udda8\": \"\\\\u092d\", '\n",
      " '\"\\\\ud804\\\\udda9\": \"\\\\u092e\", \"\\\\ud804\\\\uddaa\": \"\\\\u092f\", \"\\\\ud804\\\\uddab\": '\n",
      " '\"\\\\u0930\", \"\\\\ud804\\\\uddac\": \"\\\\u0932\", \"\\\\ud804\\\\uddae\": \"\\\\u0935\", '\n",
      " '\"\\\\ud804\\\\uddaf\": \"\\\\u0936\", \"\\\\ud804\\\\uddb0\": \"\\\\u0937\", \"\\\\ud804\\\\uddb1\": '\n",
      " '\"\\\\u0938\", \"\\\\ud804\\\\uddb2\": \"\\\\u0939\", \"\\\\ud804\\\\uddad\": \"\\\\u0933\", '\n",
      " '\"\\\\ud804\\\\uddad\\\\ud804\\\\uddca\": \"\\\\u0934\", \"\\\\ud804\\\\uddab\\\\ud804\\\\uddca\": '\n",
      " '\"\\\\u0931\", \"\\\\ud804\\\\udda4\\\\ud804\\\\uddca\": \"\\\\u0929\", '\n",
      " '\"\\\\ud804\\\\udd91\\\\ud804\\\\uddca\": \"\\\\u0958\", \"\\\\ud804\\\\udd92\\\\ud804\\\\uddca\": '\n",
      " '\"\\\\u0959\", \"\\\\ud804\\\\udd93\\\\ud804\\\\uddca\": \"\\\\u095a\", '\n",
      " '\"\\\\ud804\\\\udd98\\\\ud804\\\\uddca\": \"\\\\u095b\", \"\\\\ud804\\\\udd9d\\\\ud804\\\\uddca\": '\n",
      " '\"\\\\u095c\", \"\\\\ud804\\\\udd9e\\\\ud804\\\\uddca\": \"\\\\u095d\", '\n",
      " '\"\\\\ud804\\\\udda6\\\\ud804\\\\uddca\": \"\\\\u095e\", \"\\\\ud804\\\\uddaa\\\\ud804\\\\uddca\": '\n",
      " '\"\\\\u095f\", \"\\\\ud804\\\\udd80\\\\u02bd\\\\ud804\\\\udd93\": \"\\\\u0901\\\\u02c6\\\\u0917\", '\n",
      " '\"\\\\ud804\\\\udd80\\\\u02bd\\\\ud804\\\\udd98\": \"\\\\u0901\\\\u02c6\\\\u091c\", '\n",
      " '\"\\\\ud804\\\\udd80\\\\u02bd\\\\ud804\\\\udd9d\": \"\\\\u0901\\\\u02c6\\\\u0921\", '\n",
      " '\"\\\\ud804\\\\udd80\\\\u02bd\\\\ud804\\\\udda2\": \"\\\\u0901\\\\u02c6\\\\u0926\", '\n",
      " '\"\\\\ud804\\\\udd80\\\\u02bd\\\\ud804\\\\udda7\": \"\\\\u0901\\\\u02c6\\\\u092c\", '\n",
      " '\"\\\\ud804\\\\uddca\": \"\\\\u093c\", \"\\\\ud804\\\\udd8f\\\\ud804\\\\udd80\": \"\\\\u0950\", '\n",
      " '\"\\\\ud804\\\\uddc1\": \"\\\\u093d\", \"\\\\ud804\\\\uddc5\": \"\\\\u0964\", \"\\\\ud804\\\\uddc6\": '\n",
      " '\"\\\\u0965\"}')\n"
     ]
    }
   ],
   "source": [
    "import json\n",
    "json_string = json.dumps(final_dict)\n",
    "pprint(json_string)"
   ]
  },
  {
   "cell_type": "code",
   "execution_count": 29,
   "metadata": {},
   "outputs": [],
   "source": [
    "def transliterate_to_devanagari(text):\n",
    "    sharada_text = \"\"\n",
    "    for char in text:\n",
    "        if char in final_dict:\n",
    "            sharada_text += final_dict[char]\n",
    "        else:\n",
    "            sharada_text += char\n",
    "    return sharada_text"
   ]
  },
  {
   "cell_type": "code",
   "execution_count": 30,
   "metadata": {},
   "outputs": [],
   "source": [
    "import re\n",
    "string = '''𑆏𑆀 𑆱𑆲 𑆤𑆳𑆮𑆮𑆠𑆶 𑇅\\n𑆱𑆲 𑆤𑆿 𑆨𑆶𑆤𑆑𑇀𑆠𑆶 𑇅\\n𑆱𑆲 𑆮𑆵𑆫𑇀𑆪𑆁 𑆑𑆫𑆮𑆳𑆮𑆲𑆽 𑇅\\n𑆠𑆼𑆘𑆱𑇀𑆮𑆴 𑆤𑆳𑆮𑆣𑆵𑆠𑆩𑆱𑇀𑆠𑆶 𑆩𑆳 𑆮𑆴𑆢𑇀𑆮𑆴𑆰𑆳𑆮𑆲𑆽 𑇅\\n𑆏𑆀 𑆯𑆳𑆤𑇀𑆠𑆴𑆂 𑆯𑆳𑆤𑇀𑆠𑆴𑆂 𑆯𑆳𑆤𑇀𑆠𑆴𑆂 𑇆'''"
   ]
  },
  {
   "cell_type": "code",
   "execution_count": 31,
   "metadata": {},
   "outputs": [
    {
     "name": "stdout",
     "output_type": "stream",
     "text": [
      "('ओँ सह नाववतु ।\\n'\n",
      " 'सह नौ भुनक्तु ।\\n'\n",
      " 'सह वीर्यं करवावहै ।\\n'\n",
      " 'तेजस्वि नावधीतमस्तु मा विद्विषावहै ।\\n'\n",
      " 'ओँ शान्तिः शान्तिः शान्तिः ॥')\n"
     ]
    }
   ],
   "source": [
    "x=transliterate_to_devanagari(string)\n",
    "pprint(x)"
   ]
  },
  {
   "cell_type": "code",
   "execution_count": 32,
   "metadata": {},
   "outputs": [],
   "source": [
    "dts_dict={value:key for key,value in final_dict.items()}"
   ]
  },
  {
   "cell_type": "code",
   "execution_count": 33,
   "metadata": {},
   "outputs": [],
   "source": [
    "def transliterate_to_sharada(text):\n",
    "    sharada_text = \"\"\n",
    "    for char in text:\n",
    "        if char in dts_dict:\n",
    "            sharada_text += dts_dict[char]\n",
    "        else:\n",
    "            sharada_text += char\n",
    "    return sharada_text"
   ]
  },
  {
   "cell_type": "code",
   "execution_count": 34,
   "metadata": {},
   "outputs": [],
   "source": [
    "import re\n",
    "string = '''ॐ सह नाववतु ।\n",
    "सह नौ भुनक्तु ।\n",
    "सह वीर्यं करवावहै ।\n",
    "तेजस्वि नावधीतमस्तु मा विद्विषावहै ।\n",
    "ॐ शान्तिः शान्तिः शान्तिः ॥'''\n",
    "string = str(string)"
   ]
  },
  {
   "cell_type": "code",
   "execution_count": 35,
   "metadata": {},
   "outputs": [
    {
     "data": {
      "text/plain": [
       "'𑆏𑆀 𑆱𑆲 𑆤𑆳𑆮𑆮𑆠𑆶 𑇅\\n𑆱𑆲 𑆤𑆿 𑆨𑆶𑆤𑆑𑇀𑆠𑆶 𑇅\\n𑆱𑆲 𑆮𑆵𑆫𑇀𑆪𑆁 𑆑𑆫𑆮𑆳𑆮𑆲𑆽 𑇅\\n𑆠𑆼𑆘𑆱𑇀𑆮𑆴 𑆤𑆳𑆮𑆣𑆵𑆠𑆩𑆱𑇀𑆠𑆶 𑆩𑆳 𑆮𑆴𑆢𑇀𑆮𑆴𑆰𑆳𑆮𑆲𑆽 𑇅\\n𑆏𑆀 𑆯𑆳𑆤𑇀𑆠𑆴𑆂 𑆯𑆳𑆤𑇀𑆠𑆴𑆂 𑆯𑆳𑆤𑇀𑆠𑆴𑆂 𑇆'"
      ]
     },
     "execution_count": 35,
     "metadata": {},
     "output_type": "execute_result"
    }
   ],
   "source": [
    "transliterate_to_sharada(string)"
   ]
  },
  {
   "cell_type": "code",
   "execution_count": null,
   "metadata": {},
   "outputs": [],
   "source": []
  },
  {
   "cell_type": "code",
   "execution_count": null,
   "metadata": {},
   "outputs": [],
   "source": []
  },
  {
   "cell_type": "code",
   "execution_count": null,
   "metadata": {},
   "outputs": [],
   "source": []
  },
  {
   "cell_type": "code",
   "execution_count": null,
   "metadata": {},
   "outputs": [],
   "source": []
  }
 ],
 "metadata": {
  "colab": {
   "provenance": []
  },
  "kernelspec": {
   "display_name": "base",
   "language": "python",
   "name": "python3"
  },
  "language_info": {
   "codemirror_mode": {
    "name": "ipython",
    "version": 3
   },
   "file_extension": ".py",
   "mimetype": "text/x-python",
   "name": "python",
   "nbconvert_exporter": "python",
   "pygments_lexer": "ipython3",
   "version": "3.9.15"
  },
  "vscode": {
   "interpreter": {
    "hash": "170a1d56d1d165ee0b6a3fedf726f118d7293fce82edaa08a4cc2c9cd77b6237"
   }
  }
 },
 "nbformat": 4,
 "nbformat_minor": 1
}
